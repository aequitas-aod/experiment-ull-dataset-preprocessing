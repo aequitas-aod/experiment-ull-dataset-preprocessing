{
 "cells": [
  {
   "cell_type": "markdown",
   "metadata": {},
   "source": [
    "# Imports"
   ]
  },
  {
   "cell_type": "code",
   "execution_count": 1,
   "metadata": {
    "ExecuteTime": {
     "end_time": "2024-04-22T13:54:39.960181Z",
     "start_time": "2024-04-22T13:54:39.287199Z"
    }
   },
   "outputs": [],
   "source": [
    "import os\n",
    "\n",
    "import pandas as pd\n",
    "\n",
    "from macros import column_groups, DATA_PATH, DATA_SPLIT_PATH, ORIGINAL_DATASET_NAME"
   ]
  },
  {
   "cell_type": "markdown",
   "metadata": {},
   "source": [
    "# Loading"
   ]
  },
  {
   "cell_type": "code",
   "execution_count": 2,
   "metadata": {
    "ExecuteTime": {
     "end_time": "2024-04-22T13:54:43.003318Z",
     "start_time": "2024-04-22T13:54:42.340304Z"
    }
   },
   "outputs": [
    {
     "data": {
      "text/plain": "             f0  f1n  f2an  f2bn  f3a  f3b  f5a  f5b  f5n   f6  ...  f33b  \\\nid_student                                                      ...         \n1           1.0  3.0  43.0  47.0  7.0  3.0  1.0  2.0  1.0  3.0  ...   NaN   \n3           1.0  4.0  45.0  41.0  3.0  5.0  1.0  1.0  1.0  3.0  ...   NaN   \n4           1.0  4.0  39.0  41.0  5.0  5.0  1.0  1.0  1.0  NaN  ...   NaN   \n5           2.0  4.0  39.0  41.0  9.0  7.0  1.0  2.0  1.0  NaN  ...   NaN   \n6           1.0  5.0  25.0  29.0  3.0  3.0  NaN  NaN  1.0  3.0  ...   NaN   \n...         ...  ...   ...   ...  ...  ...  ...  ...  ...  ...  ...   ...   \n83852       1.0  3.0  33.0  39.0  4.0  NaN  1.0  1.0  1.0  NaN  ...   1.0   \n83854       1.0  3.0  45.0  44.0  7.0  7.0  2.0  2.0  2.0  NaN  ...   NaN   \n83855       2.0  4.0  40.0  42.0  5.0  5.0  1.0  1.0  1.0  NaN  ...   NaN   \n83856       1.0  5.0  40.0   NaN  2.0  NaN  4.0  4.0  1.0  NaN  ...   NaN   \n83857       1.0  5.0  41.0  51.0  4.0  3.0  1.0  1.0  1.0  NaN  ...   NaN   \n\n            f33c  f33d  f33e  f33f  f33g  f33h   f34  nhousehold      ESCS  \nid_student                                                                  \n1            NaN   NaN   NaN   NaN   NaN   NaN   NaN         NaN  0.235340  \n3            NaN   NaN   NaN   NaN   NaN   NaN   NaN         NaN  0.261451  \n4            NaN   NaN   NaN   NaN   NaN   NaN   NaN         NaN  0.787122  \n5            NaN   NaN   NaN   NaN   NaN   NaN   NaN         NaN  3.151773  \n6            NaN   NaN   NaN   NaN   NaN   NaN   NaN         NaN -1.627731  \n...          ...   ...   ...   ...   ...   ...   ...         ...       ...  \n83852        NaN   NaN   1.0   NaN   NaN   NaN  10.0         NaN -0.458169  \n83854        NaN   NaN   NaN   NaN   NaN   NaN   9.0         NaN  0.761954  \n83855        NaN   NaN   NaN   NaN   NaN   NaN   5.0         NaN  0.633218  \n83856        NaN   NaN   NaN   NaN   NaN   1.0  10.0         NaN -1.506239  \n83857        NaN   NaN   NaN   NaN   NaN   NaN   3.0         NaN -0.309953  \n\n[49110 rows x 76 columns]",
      "text/html": "<div>\n<style scoped>\n    .dataframe tbody tr th:only-of-type {\n        vertical-align: middle;\n    }\n\n    .dataframe tbody tr th {\n        vertical-align: top;\n    }\n\n    .dataframe thead th {\n        text-align: right;\n    }\n</style>\n<table border=\"1\" class=\"dataframe\">\n  <thead>\n    <tr style=\"text-align: right;\">\n      <th></th>\n      <th>f0</th>\n      <th>f1n</th>\n      <th>f2an</th>\n      <th>f2bn</th>\n      <th>f3a</th>\n      <th>f3b</th>\n      <th>f5a</th>\n      <th>f5b</th>\n      <th>f5n</th>\n      <th>f6</th>\n      <th>...</th>\n      <th>f33b</th>\n      <th>f33c</th>\n      <th>f33d</th>\n      <th>f33e</th>\n      <th>f33f</th>\n      <th>f33g</th>\n      <th>f33h</th>\n      <th>f34</th>\n      <th>nhousehold</th>\n      <th>ESCS</th>\n    </tr>\n    <tr>\n      <th>id_student</th>\n      <th></th>\n      <th></th>\n      <th></th>\n      <th></th>\n      <th></th>\n      <th></th>\n      <th></th>\n      <th></th>\n      <th></th>\n      <th></th>\n      <th></th>\n      <th></th>\n      <th></th>\n      <th></th>\n      <th></th>\n      <th></th>\n      <th></th>\n      <th></th>\n      <th></th>\n      <th></th>\n      <th></th>\n    </tr>\n  </thead>\n  <tbody>\n    <tr>\n      <th>1</th>\n      <td>1.0</td>\n      <td>3.0</td>\n      <td>43.0</td>\n      <td>47.0</td>\n      <td>7.0</td>\n      <td>3.0</td>\n      <td>1.0</td>\n      <td>2.0</td>\n      <td>1.0</td>\n      <td>3.0</td>\n      <td>...</td>\n      <td>NaN</td>\n      <td>NaN</td>\n      <td>NaN</td>\n      <td>NaN</td>\n      <td>NaN</td>\n      <td>NaN</td>\n      <td>NaN</td>\n      <td>NaN</td>\n      <td>NaN</td>\n      <td>0.235340</td>\n    </tr>\n    <tr>\n      <th>3</th>\n      <td>1.0</td>\n      <td>4.0</td>\n      <td>45.0</td>\n      <td>41.0</td>\n      <td>3.0</td>\n      <td>5.0</td>\n      <td>1.0</td>\n      <td>1.0</td>\n      <td>1.0</td>\n      <td>3.0</td>\n      <td>...</td>\n      <td>NaN</td>\n      <td>NaN</td>\n      <td>NaN</td>\n      <td>NaN</td>\n      <td>NaN</td>\n      <td>NaN</td>\n      <td>NaN</td>\n      <td>NaN</td>\n      <td>NaN</td>\n      <td>0.261451</td>\n    </tr>\n    <tr>\n      <th>4</th>\n      <td>1.0</td>\n      <td>4.0</td>\n      <td>39.0</td>\n      <td>41.0</td>\n      <td>5.0</td>\n      <td>5.0</td>\n      <td>1.0</td>\n      <td>1.0</td>\n      <td>1.0</td>\n      <td>NaN</td>\n      <td>...</td>\n      <td>NaN</td>\n      <td>NaN</td>\n      <td>NaN</td>\n      <td>NaN</td>\n      <td>NaN</td>\n      <td>NaN</td>\n      <td>NaN</td>\n      <td>NaN</td>\n      <td>NaN</td>\n      <td>0.787122</td>\n    </tr>\n    <tr>\n      <th>5</th>\n      <td>2.0</td>\n      <td>4.0</td>\n      <td>39.0</td>\n      <td>41.0</td>\n      <td>9.0</td>\n      <td>7.0</td>\n      <td>1.0</td>\n      <td>2.0</td>\n      <td>1.0</td>\n      <td>NaN</td>\n      <td>...</td>\n      <td>NaN</td>\n      <td>NaN</td>\n      <td>NaN</td>\n      <td>NaN</td>\n      <td>NaN</td>\n      <td>NaN</td>\n      <td>NaN</td>\n      <td>NaN</td>\n      <td>NaN</td>\n      <td>3.151773</td>\n    </tr>\n    <tr>\n      <th>6</th>\n      <td>1.0</td>\n      <td>5.0</td>\n      <td>25.0</td>\n      <td>29.0</td>\n      <td>3.0</td>\n      <td>3.0</td>\n      <td>NaN</td>\n      <td>NaN</td>\n      <td>1.0</td>\n      <td>3.0</td>\n      <td>...</td>\n      <td>NaN</td>\n      <td>NaN</td>\n      <td>NaN</td>\n      <td>NaN</td>\n      <td>NaN</td>\n      <td>NaN</td>\n      <td>NaN</td>\n      <td>NaN</td>\n      <td>NaN</td>\n      <td>-1.627731</td>\n    </tr>\n    <tr>\n      <th>...</th>\n      <td>...</td>\n      <td>...</td>\n      <td>...</td>\n      <td>...</td>\n      <td>...</td>\n      <td>...</td>\n      <td>...</td>\n      <td>...</td>\n      <td>...</td>\n      <td>...</td>\n      <td>...</td>\n      <td>...</td>\n      <td>...</td>\n      <td>...</td>\n      <td>...</td>\n      <td>...</td>\n      <td>...</td>\n      <td>...</td>\n      <td>...</td>\n      <td>...</td>\n      <td>...</td>\n    </tr>\n    <tr>\n      <th>83852</th>\n      <td>1.0</td>\n      <td>3.0</td>\n      <td>33.0</td>\n      <td>39.0</td>\n      <td>4.0</td>\n      <td>NaN</td>\n      <td>1.0</td>\n      <td>1.0</td>\n      <td>1.0</td>\n      <td>NaN</td>\n      <td>...</td>\n      <td>1.0</td>\n      <td>NaN</td>\n      <td>NaN</td>\n      <td>1.0</td>\n      <td>NaN</td>\n      <td>NaN</td>\n      <td>NaN</td>\n      <td>10.0</td>\n      <td>NaN</td>\n      <td>-0.458169</td>\n    </tr>\n    <tr>\n      <th>83854</th>\n      <td>1.0</td>\n      <td>3.0</td>\n      <td>45.0</td>\n      <td>44.0</td>\n      <td>7.0</td>\n      <td>7.0</td>\n      <td>2.0</td>\n      <td>2.0</td>\n      <td>2.0</td>\n      <td>NaN</td>\n      <td>...</td>\n      <td>NaN</td>\n      <td>NaN</td>\n      <td>NaN</td>\n      <td>NaN</td>\n      <td>NaN</td>\n      <td>NaN</td>\n      <td>NaN</td>\n      <td>9.0</td>\n      <td>NaN</td>\n      <td>0.761954</td>\n    </tr>\n    <tr>\n      <th>83855</th>\n      <td>2.0</td>\n      <td>4.0</td>\n      <td>40.0</td>\n      <td>42.0</td>\n      <td>5.0</td>\n      <td>5.0</td>\n      <td>1.0</td>\n      <td>1.0</td>\n      <td>1.0</td>\n      <td>NaN</td>\n      <td>...</td>\n      <td>NaN</td>\n      <td>NaN</td>\n      <td>NaN</td>\n      <td>NaN</td>\n      <td>NaN</td>\n      <td>NaN</td>\n      <td>NaN</td>\n      <td>5.0</td>\n      <td>NaN</td>\n      <td>0.633218</td>\n    </tr>\n    <tr>\n      <th>83856</th>\n      <td>1.0</td>\n      <td>5.0</td>\n      <td>40.0</td>\n      <td>NaN</td>\n      <td>2.0</td>\n      <td>NaN</td>\n      <td>4.0</td>\n      <td>4.0</td>\n      <td>1.0</td>\n      <td>NaN</td>\n      <td>...</td>\n      <td>NaN</td>\n      <td>NaN</td>\n      <td>NaN</td>\n      <td>NaN</td>\n      <td>NaN</td>\n      <td>NaN</td>\n      <td>1.0</td>\n      <td>10.0</td>\n      <td>NaN</td>\n      <td>-1.506239</td>\n    </tr>\n    <tr>\n      <th>83857</th>\n      <td>1.0</td>\n      <td>5.0</td>\n      <td>41.0</td>\n      <td>51.0</td>\n      <td>4.0</td>\n      <td>3.0</td>\n      <td>1.0</td>\n      <td>1.0</td>\n      <td>1.0</td>\n      <td>NaN</td>\n      <td>...</td>\n      <td>NaN</td>\n      <td>NaN</td>\n      <td>NaN</td>\n      <td>NaN</td>\n      <td>NaN</td>\n      <td>NaN</td>\n      <td>NaN</td>\n      <td>3.0</td>\n      <td>NaN</td>\n      <td>-0.309953</td>\n    </tr>\n  </tbody>\n</table>\n<p>49110 rows × 76 columns</p>\n</div>"
     },
     "execution_count": 2,
     "metadata": {},
     "output_type": "execute_result"
    }
   ],
   "source": [
    "family_df = pd.read_csv(os.path.join(DATA_SPLIT_PATH, \"family_questionnaire.csv\"), low_memory=False)\n",
    "family_df = family_df.set_index(\"id_student\")\n",
    "family_df = family_df.dropna(subset=['f0'], how='all')\n",
    "family_df = family_df.drop('mother_education', axis=1)\n",
    "family_df = family_df.drop('father_education', axis=1)\n",
    "family_df = family_df.drop('f4a', axis=1)\n",
    "family_df = family_df.drop('f4b', axis=1)\n",
    "family_df = family_df.drop('inmigrant', axis=1)\n",
    "family_df = family_df.drop('inmigrant2', axis=1)\n",
    "family_df = family_df.drop('inmigrant_second_gen', axis=1)\n",
    "family_df = family_df.drop('f8ta', axis=1)\n",
    "family_df = family_df.drop('f8tm', axis=1)\n",
    "family_df = family_df.drop('f11', axis=1)\n",
    "family_df = family_df.drop('f22', axis=1)\n",
    "family_df = family_df.drop('f24a', axis=1)\n",
    "family_df = family_df.drop('f24b', axis=1)\n",
    "family_df = family_df.drop('single_parent_household', axis=1)\n",
    "family_df = family_df.drop('household_income_q', axis=1)\n",
    "family_df"
   ]
  },
  {
   "cell_type": "code",
   "execution_count": 3,
   "metadata": {
    "ExecuteTime": {
     "end_time": "2024-04-22T13:54:43.932131Z",
     "start_time": "2024-04-22T13:54:43.842252Z"
    }
   },
   "outputs": [
    {
     "data": {
      "text/plain": "            id_student_original  id_year  id_grade id_class_group  id_school  \\\nid_student                                                                     \n1                         33613     2016         3              A       2415   \n2                         19294     2016         3              A       1842   \n3                         19587     2016         3            NaN       1432   \n4                         29985     2016         3              A       2280   \n5                          6982     2016         3              A       2040   \n...                         ...      ...       ...            ...        ...   \n83853                      2500     2019         6              B       1278   \n83854                      5784     2019         6              A       1079   \n83855                      7708     2019         6              X       1486   \n83856                     18965     2019         6              B       1036   \n83857                      7652     2019         6              A       1173   \n\n            id_student_16_19  id_school_16_19  \nid_student                                     \n1                      14374              569  \n2                       8001              273  \n3                       8142               82  \n4                      12800              505  \n5                       2606              390  \n...                      ...              ...  \n83853                   <NA>              271  \n83854                   <NA>               78  \n83855                   3036              459  \n83856                   9913               36  \n83857                   5539              169  \n\n[83857 rows x 7 columns]",
      "text/html": "<div>\n<style scoped>\n    .dataframe tbody tr th:only-of-type {\n        vertical-align: middle;\n    }\n\n    .dataframe tbody tr th {\n        vertical-align: top;\n    }\n\n    .dataframe thead th {\n        text-align: right;\n    }\n</style>\n<table border=\"1\" class=\"dataframe\">\n  <thead>\n    <tr style=\"text-align: right;\">\n      <th></th>\n      <th>id_student_original</th>\n      <th>id_year</th>\n      <th>id_grade</th>\n      <th>id_class_group</th>\n      <th>id_school</th>\n      <th>id_student_16_19</th>\n      <th>id_school_16_19</th>\n    </tr>\n    <tr>\n      <th>id_student</th>\n      <th></th>\n      <th></th>\n      <th></th>\n      <th></th>\n      <th></th>\n      <th></th>\n      <th></th>\n    </tr>\n  </thead>\n  <tbody>\n    <tr>\n      <th>1</th>\n      <td>33613</td>\n      <td>2016</td>\n      <td>3</td>\n      <td>A</td>\n      <td>2415</td>\n      <td>14374</td>\n      <td>569</td>\n    </tr>\n    <tr>\n      <th>2</th>\n      <td>19294</td>\n      <td>2016</td>\n      <td>3</td>\n      <td>A</td>\n      <td>1842</td>\n      <td>8001</td>\n      <td>273</td>\n    </tr>\n    <tr>\n      <th>3</th>\n      <td>19587</td>\n      <td>2016</td>\n      <td>3</td>\n      <td>NaN</td>\n      <td>1432</td>\n      <td>8142</td>\n      <td>82</td>\n    </tr>\n    <tr>\n      <th>4</th>\n      <td>29985</td>\n      <td>2016</td>\n      <td>3</td>\n      <td>A</td>\n      <td>2280</td>\n      <td>12800</td>\n      <td>505</td>\n    </tr>\n    <tr>\n      <th>5</th>\n      <td>6982</td>\n      <td>2016</td>\n      <td>3</td>\n      <td>A</td>\n      <td>2040</td>\n      <td>2606</td>\n      <td>390</td>\n    </tr>\n    <tr>\n      <th>...</th>\n      <td>...</td>\n      <td>...</td>\n      <td>...</td>\n      <td>...</td>\n      <td>...</td>\n      <td>...</td>\n      <td>...</td>\n    </tr>\n    <tr>\n      <th>83853</th>\n      <td>2500</td>\n      <td>2019</td>\n      <td>6</td>\n      <td>B</td>\n      <td>1278</td>\n      <td>&lt;NA&gt;</td>\n      <td>271</td>\n    </tr>\n    <tr>\n      <th>83854</th>\n      <td>5784</td>\n      <td>2019</td>\n      <td>6</td>\n      <td>A</td>\n      <td>1079</td>\n      <td>&lt;NA&gt;</td>\n      <td>78</td>\n    </tr>\n    <tr>\n      <th>83855</th>\n      <td>7708</td>\n      <td>2019</td>\n      <td>6</td>\n      <td>X</td>\n      <td>1486</td>\n      <td>3036</td>\n      <td>459</td>\n    </tr>\n    <tr>\n      <th>83856</th>\n      <td>18965</td>\n      <td>2019</td>\n      <td>6</td>\n      <td>B</td>\n      <td>1036</td>\n      <td>9913</td>\n      <td>36</td>\n    </tr>\n    <tr>\n      <th>83857</th>\n      <td>7652</td>\n      <td>2019</td>\n      <td>6</td>\n      <td>A</td>\n      <td>1173</td>\n      <td>5539</td>\n      <td>169</td>\n    </tr>\n  </tbody>\n</table>\n<p>83857 rows × 7 columns</p>\n</div>"
     },
     "execution_count": 3,
     "metadata": {},
     "output_type": "execute_result"
    }
   ],
   "source": [
    "# Load identifiers and change float columns to int\n",
    "ids = pd.read_csv(os.path.join(DATA_SPLIT_PATH, \"identifiers.csv\"), low_memory=False)\n",
    "ids = ids.set_index(\"id_student\")\n",
    "int_identifiers = [col for col in ids.columns if col not in [\"id_class_group\"]]\n",
    "ids[int_identifiers] = ids[int_identifiers].astype('Int64')\n",
    "ids"
   ]
  },
  {
   "cell_type": "code",
   "execution_count": 4,
   "metadata": {
    "ExecuteTime": {
     "end_time": "2024-04-22T13:54:47.320650Z",
     "start_time": "2024-04-22T13:54:47.200318Z"
    }
   },
   "outputs": [
    {
     "data": {
      "text/plain": "            id_student_original  id_year  id_grade id_class_group  id_school  \\\nid_student                                                                     \n1                         33613     2016         3              A       2415   \n3                         19587     2016         3            NaN       1432   \n4                         29985     2016         3              A       2280   \n5                          6982     2016         3              A       2040   \n6                         37650     2016         3              A       2367   \n...                         ...      ...       ...            ...        ...   \n83852                     10612     2019         6              B       1051   \n83854                      5784     2019         6              A       1079   \n83855                      7708     2019         6              X       1486   \n83856                     18965     2019         6              B       1036   \n83857                      7652     2019         6              A       1173   \n\n            id_student_16_19  id_school_16_19   f0  f1n  f2an  ...  f33b  \\\nid_student                                                     ...         \n1                      14374              569  1.0  3.0  43.0  ...   NaN   \n3                       8142               82  1.0  4.0  45.0  ...   NaN   \n4                      12800              505  1.0  4.0  39.0  ...   NaN   \n5                       2606              390  2.0  4.0  39.0  ...   NaN   \n6                      16186              546  1.0  5.0  25.0  ...   NaN   \n...                      ...              ...  ...  ...   ...  ...   ...   \n83852                   8418               51  1.0  3.0  33.0  ...   1.0   \n83854                   <NA>               78  1.0  3.0  45.0  ...   NaN   \n83855                   3036              459  2.0  4.0  40.0  ...   NaN   \n83856                   9913               36  1.0  5.0  40.0  ...   NaN   \n83857                   5539              169  1.0  5.0  41.0  ...   NaN   \n\n            f33c  f33d  f33e  f33f  f33g  f33h   f34  nhousehold      ESCS  \nid_student                                                                  \n1            NaN   NaN   NaN   NaN   NaN   NaN   NaN         NaN  0.235340  \n3            NaN   NaN   NaN   NaN   NaN   NaN   NaN         NaN  0.261451  \n4            NaN   NaN   NaN   NaN   NaN   NaN   NaN         NaN  0.787122  \n5            NaN   NaN   NaN   NaN   NaN   NaN   NaN         NaN  3.151773  \n6            NaN   NaN   NaN   NaN   NaN   NaN   NaN         NaN -1.627731  \n...          ...   ...   ...   ...   ...   ...   ...         ...       ...  \n83852        NaN   NaN   1.0   NaN   NaN   NaN  10.0         NaN -0.458169  \n83854        NaN   NaN   NaN   NaN   NaN   NaN   9.0         NaN  0.761954  \n83855        NaN   NaN   NaN   NaN   NaN   NaN   5.0         NaN  0.633218  \n83856        NaN   NaN   NaN   NaN   NaN   1.0  10.0         NaN -1.506239  \n83857        NaN   NaN   NaN   NaN   NaN   NaN   3.0         NaN -0.309953  \n\n[49110 rows x 83 columns]",
      "text/html": "<div>\n<style scoped>\n    .dataframe tbody tr th:only-of-type {\n        vertical-align: middle;\n    }\n\n    .dataframe tbody tr th {\n        vertical-align: top;\n    }\n\n    .dataframe thead th {\n        text-align: right;\n    }\n</style>\n<table border=\"1\" class=\"dataframe\">\n  <thead>\n    <tr style=\"text-align: right;\">\n      <th></th>\n      <th>id_student_original</th>\n      <th>id_year</th>\n      <th>id_grade</th>\n      <th>id_class_group</th>\n      <th>id_school</th>\n      <th>id_student_16_19</th>\n      <th>id_school_16_19</th>\n      <th>f0</th>\n      <th>f1n</th>\n      <th>f2an</th>\n      <th>...</th>\n      <th>f33b</th>\n      <th>f33c</th>\n      <th>f33d</th>\n      <th>f33e</th>\n      <th>f33f</th>\n      <th>f33g</th>\n      <th>f33h</th>\n      <th>f34</th>\n      <th>nhousehold</th>\n      <th>ESCS</th>\n    </tr>\n    <tr>\n      <th>id_student</th>\n      <th></th>\n      <th></th>\n      <th></th>\n      <th></th>\n      <th></th>\n      <th></th>\n      <th></th>\n      <th></th>\n      <th></th>\n      <th></th>\n      <th></th>\n      <th></th>\n      <th></th>\n      <th></th>\n      <th></th>\n      <th></th>\n      <th></th>\n      <th></th>\n      <th></th>\n      <th></th>\n      <th></th>\n    </tr>\n  </thead>\n  <tbody>\n    <tr>\n      <th>1</th>\n      <td>33613</td>\n      <td>2016</td>\n      <td>3</td>\n      <td>A</td>\n      <td>2415</td>\n      <td>14374</td>\n      <td>569</td>\n      <td>1.0</td>\n      <td>3.0</td>\n      <td>43.0</td>\n      <td>...</td>\n      <td>NaN</td>\n      <td>NaN</td>\n      <td>NaN</td>\n      <td>NaN</td>\n      <td>NaN</td>\n      <td>NaN</td>\n      <td>NaN</td>\n      <td>NaN</td>\n      <td>NaN</td>\n      <td>0.235340</td>\n    </tr>\n    <tr>\n      <th>3</th>\n      <td>19587</td>\n      <td>2016</td>\n      <td>3</td>\n      <td>NaN</td>\n      <td>1432</td>\n      <td>8142</td>\n      <td>82</td>\n      <td>1.0</td>\n      <td>4.0</td>\n      <td>45.0</td>\n      <td>...</td>\n      <td>NaN</td>\n      <td>NaN</td>\n      <td>NaN</td>\n      <td>NaN</td>\n      <td>NaN</td>\n      <td>NaN</td>\n      <td>NaN</td>\n      <td>NaN</td>\n      <td>NaN</td>\n      <td>0.261451</td>\n    </tr>\n    <tr>\n      <th>4</th>\n      <td>29985</td>\n      <td>2016</td>\n      <td>3</td>\n      <td>A</td>\n      <td>2280</td>\n      <td>12800</td>\n      <td>505</td>\n      <td>1.0</td>\n      <td>4.0</td>\n      <td>39.0</td>\n      <td>...</td>\n      <td>NaN</td>\n      <td>NaN</td>\n      <td>NaN</td>\n      <td>NaN</td>\n      <td>NaN</td>\n      <td>NaN</td>\n      <td>NaN</td>\n      <td>NaN</td>\n      <td>NaN</td>\n      <td>0.787122</td>\n    </tr>\n    <tr>\n      <th>5</th>\n      <td>6982</td>\n      <td>2016</td>\n      <td>3</td>\n      <td>A</td>\n      <td>2040</td>\n      <td>2606</td>\n      <td>390</td>\n      <td>2.0</td>\n      <td>4.0</td>\n      <td>39.0</td>\n      <td>...</td>\n      <td>NaN</td>\n      <td>NaN</td>\n      <td>NaN</td>\n      <td>NaN</td>\n      <td>NaN</td>\n      <td>NaN</td>\n      <td>NaN</td>\n      <td>NaN</td>\n      <td>NaN</td>\n      <td>3.151773</td>\n    </tr>\n    <tr>\n      <th>6</th>\n      <td>37650</td>\n      <td>2016</td>\n      <td>3</td>\n      <td>A</td>\n      <td>2367</td>\n      <td>16186</td>\n      <td>546</td>\n      <td>1.0</td>\n      <td>5.0</td>\n      <td>25.0</td>\n      <td>...</td>\n      <td>NaN</td>\n      <td>NaN</td>\n      <td>NaN</td>\n      <td>NaN</td>\n      <td>NaN</td>\n      <td>NaN</td>\n      <td>NaN</td>\n      <td>NaN</td>\n      <td>NaN</td>\n      <td>-1.627731</td>\n    </tr>\n    <tr>\n      <th>...</th>\n      <td>...</td>\n      <td>...</td>\n      <td>...</td>\n      <td>...</td>\n      <td>...</td>\n      <td>...</td>\n      <td>...</td>\n      <td>...</td>\n      <td>...</td>\n      <td>...</td>\n      <td>...</td>\n      <td>...</td>\n      <td>...</td>\n      <td>...</td>\n      <td>...</td>\n      <td>...</td>\n      <td>...</td>\n      <td>...</td>\n      <td>...</td>\n      <td>...</td>\n      <td>...</td>\n    </tr>\n    <tr>\n      <th>83852</th>\n      <td>10612</td>\n      <td>2019</td>\n      <td>6</td>\n      <td>B</td>\n      <td>1051</td>\n      <td>8418</td>\n      <td>51</td>\n      <td>1.0</td>\n      <td>3.0</td>\n      <td>33.0</td>\n      <td>...</td>\n      <td>1.0</td>\n      <td>NaN</td>\n      <td>NaN</td>\n      <td>1.0</td>\n      <td>NaN</td>\n      <td>NaN</td>\n      <td>NaN</td>\n      <td>10.0</td>\n      <td>NaN</td>\n      <td>-0.458169</td>\n    </tr>\n    <tr>\n      <th>83854</th>\n      <td>5784</td>\n      <td>2019</td>\n      <td>6</td>\n      <td>A</td>\n      <td>1079</td>\n      <td>&lt;NA&gt;</td>\n      <td>78</td>\n      <td>1.0</td>\n      <td>3.0</td>\n      <td>45.0</td>\n      <td>...</td>\n      <td>NaN</td>\n      <td>NaN</td>\n      <td>NaN</td>\n      <td>NaN</td>\n      <td>NaN</td>\n      <td>NaN</td>\n      <td>NaN</td>\n      <td>9.0</td>\n      <td>NaN</td>\n      <td>0.761954</td>\n    </tr>\n    <tr>\n      <th>83855</th>\n      <td>7708</td>\n      <td>2019</td>\n      <td>6</td>\n      <td>X</td>\n      <td>1486</td>\n      <td>3036</td>\n      <td>459</td>\n      <td>2.0</td>\n      <td>4.0</td>\n      <td>40.0</td>\n      <td>...</td>\n      <td>NaN</td>\n      <td>NaN</td>\n      <td>NaN</td>\n      <td>NaN</td>\n      <td>NaN</td>\n      <td>NaN</td>\n      <td>NaN</td>\n      <td>5.0</td>\n      <td>NaN</td>\n      <td>0.633218</td>\n    </tr>\n    <tr>\n      <th>83856</th>\n      <td>18965</td>\n      <td>2019</td>\n      <td>6</td>\n      <td>B</td>\n      <td>1036</td>\n      <td>9913</td>\n      <td>36</td>\n      <td>1.0</td>\n      <td>5.0</td>\n      <td>40.0</td>\n      <td>...</td>\n      <td>NaN</td>\n      <td>NaN</td>\n      <td>NaN</td>\n      <td>NaN</td>\n      <td>NaN</td>\n      <td>NaN</td>\n      <td>1.0</td>\n      <td>10.0</td>\n      <td>NaN</td>\n      <td>-1.506239</td>\n    </tr>\n    <tr>\n      <th>83857</th>\n      <td>7652</td>\n      <td>2019</td>\n      <td>6</td>\n      <td>A</td>\n      <td>1173</td>\n      <td>5539</td>\n      <td>169</td>\n      <td>1.0</td>\n      <td>5.0</td>\n      <td>41.0</td>\n      <td>...</td>\n      <td>NaN</td>\n      <td>NaN</td>\n      <td>NaN</td>\n      <td>NaN</td>\n      <td>NaN</td>\n      <td>NaN</td>\n      <td>NaN</td>\n      <td>3.0</td>\n      <td>NaN</td>\n      <td>-0.309953</td>\n    </tr>\n  </tbody>\n</table>\n<p>49110 rows × 83 columns</p>\n</div>"
     },
     "execution_count": 4,
     "metadata": {},
     "output_type": "execute_result"
    }
   ],
   "source": [
    "df = pd.merge(ids, family_df, left_index=True, right_index=True)\n",
    "df"
   ]
  },
  {
   "cell_type": "markdown",
   "metadata": {},
   "source": [
    "# Pre-processing 1\n",
    "In this step we are going to substitute within the NaN values the average value for that column."
   ]
  },
  {
   "cell_type": "code",
   "execution_count": 5,
   "outputs": [
    {
     "data": {
      "text/plain": "             f0  f1n  f2an  f2bn  f3a  f3b  f5a  f5b  f5n   f6  ...  f33b  \\\nid_student                                                      ...         \n1           1.0  3.0  43.0  47.0  7.0  3.0  1.0  2.0  1.0  3.0  ...   NaN   \n3           1.0  4.0  45.0  41.0  3.0  5.0  1.0  1.0  1.0  3.0  ...   NaN   \n4           1.0  4.0  39.0  41.0  5.0  5.0  1.0  1.0  1.0  NaN  ...   NaN   \n5           2.0  4.0  39.0  41.0  9.0  7.0  1.0  2.0  1.0  NaN  ...   NaN   \n6           1.0  5.0  25.0  29.0  3.0  3.0  NaN  NaN  1.0  3.0  ...   NaN   \n...         ...  ...   ...   ...  ...  ...  ...  ...  ...  ...  ...   ...   \n83852       1.0  3.0  33.0  39.0  4.0  NaN  1.0  1.0  1.0  NaN  ...   1.0   \n83854       1.0  3.0  45.0  44.0  7.0  7.0  2.0  2.0  2.0  NaN  ...   NaN   \n83855       2.0  4.0  40.0  42.0  5.0  5.0  1.0  1.0  1.0  NaN  ...   NaN   \n83856       1.0  5.0  40.0   NaN  2.0  NaN  4.0  4.0  1.0  NaN  ...   NaN   \n83857       1.0  5.0  41.0  51.0  4.0  3.0  1.0  1.0  1.0  NaN  ...   NaN   \n\n            f33c  f33d  f33e  f33f  f33g  f33h   f34  nhousehold      ESCS  \nid_student                                                                  \n1            NaN   NaN   NaN   NaN   NaN   NaN   NaN         NaN  0.235340  \n3            NaN   NaN   NaN   NaN   NaN   NaN   NaN         NaN  0.261451  \n4            NaN   NaN   NaN   NaN   NaN   NaN   NaN         NaN  0.787122  \n5            NaN   NaN   NaN   NaN   NaN   NaN   NaN         NaN  3.151773  \n6            NaN   NaN   NaN   NaN   NaN   NaN   NaN         NaN -1.627731  \n...          ...   ...   ...   ...   ...   ...   ...         ...       ...  \n83852        NaN   NaN   1.0   NaN   NaN   NaN  10.0         NaN -0.458169  \n83854        NaN   NaN   NaN   NaN   NaN   NaN   9.0         NaN  0.761954  \n83855        NaN   NaN   NaN   NaN   NaN   NaN   5.0         NaN  0.633218  \n83856        NaN   NaN   NaN   NaN   NaN   1.0  10.0         NaN -1.506239  \n83857        NaN   NaN   NaN   NaN   NaN   NaN   3.0         NaN -0.309953  \n\n[49110 rows x 76 columns]",
      "text/html": "<div>\n<style scoped>\n    .dataframe tbody tr th:only-of-type {\n        vertical-align: middle;\n    }\n\n    .dataframe tbody tr th {\n        vertical-align: top;\n    }\n\n    .dataframe thead th {\n        text-align: right;\n    }\n</style>\n<table border=\"1\" class=\"dataframe\">\n  <thead>\n    <tr style=\"text-align: right;\">\n      <th></th>\n      <th>f0</th>\n      <th>f1n</th>\n      <th>f2an</th>\n      <th>f2bn</th>\n      <th>f3a</th>\n      <th>f3b</th>\n      <th>f5a</th>\n      <th>f5b</th>\n      <th>f5n</th>\n      <th>f6</th>\n      <th>...</th>\n      <th>f33b</th>\n      <th>f33c</th>\n      <th>f33d</th>\n      <th>f33e</th>\n      <th>f33f</th>\n      <th>f33g</th>\n      <th>f33h</th>\n      <th>f34</th>\n      <th>nhousehold</th>\n      <th>ESCS</th>\n    </tr>\n    <tr>\n      <th>id_student</th>\n      <th></th>\n      <th></th>\n      <th></th>\n      <th></th>\n      <th></th>\n      <th></th>\n      <th></th>\n      <th></th>\n      <th></th>\n      <th></th>\n      <th></th>\n      <th></th>\n      <th></th>\n      <th></th>\n      <th></th>\n      <th></th>\n      <th></th>\n      <th></th>\n      <th></th>\n      <th></th>\n      <th></th>\n    </tr>\n  </thead>\n  <tbody>\n    <tr>\n      <th>1</th>\n      <td>1.0</td>\n      <td>3.0</td>\n      <td>43.0</td>\n      <td>47.0</td>\n      <td>7.0</td>\n      <td>3.0</td>\n      <td>1.0</td>\n      <td>2.0</td>\n      <td>1.0</td>\n      <td>3.0</td>\n      <td>...</td>\n      <td>NaN</td>\n      <td>NaN</td>\n      <td>NaN</td>\n      <td>NaN</td>\n      <td>NaN</td>\n      <td>NaN</td>\n      <td>NaN</td>\n      <td>NaN</td>\n      <td>NaN</td>\n      <td>0.235340</td>\n    </tr>\n    <tr>\n      <th>3</th>\n      <td>1.0</td>\n      <td>4.0</td>\n      <td>45.0</td>\n      <td>41.0</td>\n      <td>3.0</td>\n      <td>5.0</td>\n      <td>1.0</td>\n      <td>1.0</td>\n      <td>1.0</td>\n      <td>3.0</td>\n      <td>...</td>\n      <td>NaN</td>\n      <td>NaN</td>\n      <td>NaN</td>\n      <td>NaN</td>\n      <td>NaN</td>\n      <td>NaN</td>\n      <td>NaN</td>\n      <td>NaN</td>\n      <td>NaN</td>\n      <td>0.261451</td>\n    </tr>\n    <tr>\n      <th>4</th>\n      <td>1.0</td>\n      <td>4.0</td>\n      <td>39.0</td>\n      <td>41.0</td>\n      <td>5.0</td>\n      <td>5.0</td>\n      <td>1.0</td>\n      <td>1.0</td>\n      <td>1.0</td>\n      <td>NaN</td>\n      <td>...</td>\n      <td>NaN</td>\n      <td>NaN</td>\n      <td>NaN</td>\n      <td>NaN</td>\n      <td>NaN</td>\n      <td>NaN</td>\n      <td>NaN</td>\n      <td>NaN</td>\n      <td>NaN</td>\n      <td>0.787122</td>\n    </tr>\n    <tr>\n      <th>5</th>\n      <td>2.0</td>\n      <td>4.0</td>\n      <td>39.0</td>\n      <td>41.0</td>\n      <td>9.0</td>\n      <td>7.0</td>\n      <td>1.0</td>\n      <td>2.0</td>\n      <td>1.0</td>\n      <td>NaN</td>\n      <td>...</td>\n      <td>NaN</td>\n      <td>NaN</td>\n      <td>NaN</td>\n      <td>NaN</td>\n      <td>NaN</td>\n      <td>NaN</td>\n      <td>NaN</td>\n      <td>NaN</td>\n      <td>NaN</td>\n      <td>3.151773</td>\n    </tr>\n    <tr>\n      <th>6</th>\n      <td>1.0</td>\n      <td>5.0</td>\n      <td>25.0</td>\n      <td>29.0</td>\n      <td>3.0</td>\n      <td>3.0</td>\n      <td>NaN</td>\n      <td>NaN</td>\n      <td>1.0</td>\n      <td>3.0</td>\n      <td>...</td>\n      <td>NaN</td>\n      <td>NaN</td>\n      <td>NaN</td>\n      <td>NaN</td>\n      <td>NaN</td>\n      <td>NaN</td>\n      <td>NaN</td>\n      <td>NaN</td>\n      <td>NaN</td>\n      <td>-1.627731</td>\n    </tr>\n    <tr>\n      <th>...</th>\n      <td>...</td>\n      <td>...</td>\n      <td>...</td>\n      <td>...</td>\n      <td>...</td>\n      <td>...</td>\n      <td>...</td>\n      <td>...</td>\n      <td>...</td>\n      <td>...</td>\n      <td>...</td>\n      <td>...</td>\n      <td>...</td>\n      <td>...</td>\n      <td>...</td>\n      <td>...</td>\n      <td>...</td>\n      <td>...</td>\n      <td>...</td>\n      <td>...</td>\n      <td>...</td>\n    </tr>\n    <tr>\n      <th>83852</th>\n      <td>1.0</td>\n      <td>3.0</td>\n      <td>33.0</td>\n      <td>39.0</td>\n      <td>4.0</td>\n      <td>NaN</td>\n      <td>1.0</td>\n      <td>1.0</td>\n      <td>1.0</td>\n      <td>NaN</td>\n      <td>...</td>\n      <td>1.0</td>\n      <td>NaN</td>\n      <td>NaN</td>\n      <td>1.0</td>\n      <td>NaN</td>\n      <td>NaN</td>\n      <td>NaN</td>\n      <td>10.0</td>\n      <td>NaN</td>\n      <td>-0.458169</td>\n    </tr>\n    <tr>\n      <th>83854</th>\n      <td>1.0</td>\n      <td>3.0</td>\n      <td>45.0</td>\n      <td>44.0</td>\n      <td>7.0</td>\n      <td>7.0</td>\n      <td>2.0</td>\n      <td>2.0</td>\n      <td>2.0</td>\n      <td>NaN</td>\n      <td>...</td>\n      <td>NaN</td>\n      <td>NaN</td>\n      <td>NaN</td>\n      <td>NaN</td>\n      <td>NaN</td>\n      <td>NaN</td>\n      <td>NaN</td>\n      <td>9.0</td>\n      <td>NaN</td>\n      <td>0.761954</td>\n    </tr>\n    <tr>\n      <th>83855</th>\n      <td>2.0</td>\n      <td>4.0</td>\n      <td>40.0</td>\n      <td>42.0</td>\n      <td>5.0</td>\n      <td>5.0</td>\n      <td>1.0</td>\n      <td>1.0</td>\n      <td>1.0</td>\n      <td>NaN</td>\n      <td>...</td>\n      <td>NaN</td>\n      <td>NaN</td>\n      <td>NaN</td>\n      <td>NaN</td>\n      <td>NaN</td>\n      <td>NaN</td>\n      <td>NaN</td>\n      <td>5.0</td>\n      <td>NaN</td>\n      <td>0.633218</td>\n    </tr>\n    <tr>\n      <th>83856</th>\n      <td>1.0</td>\n      <td>5.0</td>\n      <td>40.0</td>\n      <td>NaN</td>\n      <td>2.0</td>\n      <td>NaN</td>\n      <td>4.0</td>\n      <td>4.0</td>\n      <td>1.0</td>\n      <td>NaN</td>\n      <td>...</td>\n      <td>NaN</td>\n      <td>NaN</td>\n      <td>NaN</td>\n      <td>NaN</td>\n      <td>NaN</td>\n      <td>NaN</td>\n      <td>1.0</td>\n      <td>10.0</td>\n      <td>NaN</td>\n      <td>-1.506239</td>\n    </tr>\n    <tr>\n      <th>83857</th>\n      <td>1.0</td>\n      <td>5.0</td>\n      <td>41.0</td>\n      <td>51.0</td>\n      <td>4.0</td>\n      <td>3.0</td>\n      <td>1.0</td>\n      <td>1.0</td>\n      <td>1.0</td>\n      <td>NaN</td>\n      <td>...</td>\n      <td>NaN</td>\n      <td>NaN</td>\n      <td>NaN</td>\n      <td>NaN</td>\n      <td>NaN</td>\n      <td>NaN</td>\n      <td>NaN</td>\n      <td>3.0</td>\n      <td>NaN</td>\n      <td>-0.309953</td>\n    </tr>\n  </tbody>\n</table>\n<p>49110 rows × 76 columns</p>\n</div>"
     },
     "execution_count": 5,
     "metadata": {},
     "output_type": "execute_result"
    }
   ],
   "source": [
    "family_df"
   ],
   "metadata": {
    "collapsed": false,
    "ExecuteTime": {
     "end_time": "2024-04-22T13:54:56.431578Z",
     "start_time": "2024-04-22T13:54:56.386063Z"
    }
   }
  },
  {
   "cell_type": "code",
   "execution_count": 9,
   "outputs": [],
   "source": [
    "means = family_df.mean().round()\n",
    "family_df_filled_with_mean = family_df.fillna(means)"
   ],
   "metadata": {
    "collapsed": false,
    "ExecuteTime": {
     "end_time": "2024-04-22T13:56:03.163581Z",
     "start_time": "2024-04-22T13:56:03.106606Z"
    }
   }
  },
  {
   "cell_type": "code",
   "execution_count": 10,
   "outputs": [
    {
     "data": {
      "text/plain": "             f0  f1n  f2an  f2bn  f3a  f3b  f5a  f5b  f5n   f6  ...  f33b  \\\nid_student                                                      ...         \n1           1.0  3.0  43.0  47.0  7.0  3.0  1.0  2.0  1.0  3.0  ...   2.0   \n3           1.0  4.0  45.0  41.0  3.0  5.0  1.0  1.0  1.0  3.0  ...   2.0   \n4           1.0  4.0  39.0  41.0  5.0  5.0  1.0  1.0  1.0  3.0  ...   2.0   \n5           2.0  4.0  39.0  41.0  9.0  7.0  1.0  2.0  1.0  3.0  ...   2.0   \n6           1.0  5.0  25.0  29.0  3.0  3.0  2.0  2.0  1.0  3.0  ...   2.0   \n...         ...  ...   ...   ...  ...  ...  ...  ...  ...  ...  ...   ...   \n83852       1.0  3.0  33.0  39.0  4.0  4.0  1.0  1.0  1.0  3.0  ...   1.0   \n83854       1.0  3.0  45.0  44.0  7.0  7.0  2.0  2.0  2.0  3.0  ...   2.0   \n83855       2.0  4.0  40.0  42.0  5.0  5.0  1.0  1.0  1.0  3.0  ...   2.0   \n83856       1.0  5.0  40.0  44.0  2.0  4.0  4.0  4.0  1.0  3.0  ...   2.0   \n83857       1.0  5.0  41.0  51.0  4.0  3.0  1.0  1.0  1.0  3.0  ...   2.0   \n\n            f33c  f33d  f33e  f33f  f33g  f33h   f34  nhousehold      ESCS  \nid_student                                                                  \n1            2.0   2.0   2.0   2.0   2.0   2.0   6.0         4.0  0.235340  \n3            2.0   2.0   2.0   2.0   2.0   2.0   6.0         4.0  0.261451  \n4            2.0   2.0   2.0   2.0   2.0   2.0   6.0         4.0  0.787122  \n5            2.0   2.0   2.0   2.0   2.0   2.0   6.0         4.0  3.151773  \n6            2.0   2.0   2.0   2.0   2.0   2.0   6.0         4.0 -1.627731  \n...          ...   ...   ...   ...   ...   ...   ...         ...       ...  \n83852        2.0   2.0   1.0   2.0   2.0   2.0  10.0         4.0 -0.458169  \n83854        2.0   2.0   2.0   2.0   2.0   2.0   9.0         4.0  0.761954  \n83855        2.0   2.0   2.0   2.0   2.0   2.0   5.0         4.0  0.633218  \n83856        2.0   2.0   2.0   2.0   2.0   1.0  10.0         4.0 -1.506239  \n83857        2.0   2.0   2.0   2.0   2.0   2.0   3.0         4.0 -0.309953  \n\n[49110 rows x 76 columns]",
      "text/html": "<div>\n<style scoped>\n    .dataframe tbody tr th:only-of-type {\n        vertical-align: middle;\n    }\n\n    .dataframe tbody tr th {\n        vertical-align: top;\n    }\n\n    .dataframe thead th {\n        text-align: right;\n    }\n</style>\n<table border=\"1\" class=\"dataframe\">\n  <thead>\n    <tr style=\"text-align: right;\">\n      <th></th>\n      <th>f0</th>\n      <th>f1n</th>\n      <th>f2an</th>\n      <th>f2bn</th>\n      <th>f3a</th>\n      <th>f3b</th>\n      <th>f5a</th>\n      <th>f5b</th>\n      <th>f5n</th>\n      <th>f6</th>\n      <th>...</th>\n      <th>f33b</th>\n      <th>f33c</th>\n      <th>f33d</th>\n      <th>f33e</th>\n      <th>f33f</th>\n      <th>f33g</th>\n      <th>f33h</th>\n      <th>f34</th>\n      <th>nhousehold</th>\n      <th>ESCS</th>\n    </tr>\n    <tr>\n      <th>id_student</th>\n      <th></th>\n      <th></th>\n      <th></th>\n      <th></th>\n      <th></th>\n      <th></th>\n      <th></th>\n      <th></th>\n      <th></th>\n      <th></th>\n      <th></th>\n      <th></th>\n      <th></th>\n      <th></th>\n      <th></th>\n      <th></th>\n      <th></th>\n      <th></th>\n      <th></th>\n      <th></th>\n      <th></th>\n    </tr>\n  </thead>\n  <tbody>\n    <tr>\n      <th>1</th>\n      <td>1.0</td>\n      <td>3.0</td>\n      <td>43.0</td>\n      <td>47.0</td>\n      <td>7.0</td>\n      <td>3.0</td>\n      <td>1.0</td>\n      <td>2.0</td>\n      <td>1.0</td>\n      <td>3.0</td>\n      <td>...</td>\n      <td>2.0</td>\n      <td>2.0</td>\n      <td>2.0</td>\n      <td>2.0</td>\n      <td>2.0</td>\n      <td>2.0</td>\n      <td>2.0</td>\n      <td>6.0</td>\n      <td>4.0</td>\n      <td>0.235340</td>\n    </tr>\n    <tr>\n      <th>3</th>\n      <td>1.0</td>\n      <td>4.0</td>\n      <td>45.0</td>\n      <td>41.0</td>\n      <td>3.0</td>\n      <td>5.0</td>\n      <td>1.0</td>\n      <td>1.0</td>\n      <td>1.0</td>\n      <td>3.0</td>\n      <td>...</td>\n      <td>2.0</td>\n      <td>2.0</td>\n      <td>2.0</td>\n      <td>2.0</td>\n      <td>2.0</td>\n      <td>2.0</td>\n      <td>2.0</td>\n      <td>6.0</td>\n      <td>4.0</td>\n      <td>0.261451</td>\n    </tr>\n    <tr>\n      <th>4</th>\n      <td>1.0</td>\n      <td>4.0</td>\n      <td>39.0</td>\n      <td>41.0</td>\n      <td>5.0</td>\n      <td>5.0</td>\n      <td>1.0</td>\n      <td>1.0</td>\n      <td>1.0</td>\n      <td>3.0</td>\n      <td>...</td>\n      <td>2.0</td>\n      <td>2.0</td>\n      <td>2.0</td>\n      <td>2.0</td>\n      <td>2.0</td>\n      <td>2.0</td>\n      <td>2.0</td>\n      <td>6.0</td>\n      <td>4.0</td>\n      <td>0.787122</td>\n    </tr>\n    <tr>\n      <th>5</th>\n      <td>2.0</td>\n      <td>4.0</td>\n      <td>39.0</td>\n      <td>41.0</td>\n      <td>9.0</td>\n      <td>7.0</td>\n      <td>1.0</td>\n      <td>2.0</td>\n      <td>1.0</td>\n      <td>3.0</td>\n      <td>...</td>\n      <td>2.0</td>\n      <td>2.0</td>\n      <td>2.0</td>\n      <td>2.0</td>\n      <td>2.0</td>\n      <td>2.0</td>\n      <td>2.0</td>\n      <td>6.0</td>\n      <td>4.0</td>\n      <td>3.151773</td>\n    </tr>\n    <tr>\n      <th>6</th>\n      <td>1.0</td>\n      <td>5.0</td>\n      <td>25.0</td>\n      <td>29.0</td>\n      <td>3.0</td>\n      <td>3.0</td>\n      <td>2.0</td>\n      <td>2.0</td>\n      <td>1.0</td>\n      <td>3.0</td>\n      <td>...</td>\n      <td>2.0</td>\n      <td>2.0</td>\n      <td>2.0</td>\n      <td>2.0</td>\n      <td>2.0</td>\n      <td>2.0</td>\n      <td>2.0</td>\n      <td>6.0</td>\n      <td>4.0</td>\n      <td>-1.627731</td>\n    </tr>\n    <tr>\n      <th>...</th>\n      <td>...</td>\n      <td>...</td>\n      <td>...</td>\n      <td>...</td>\n      <td>...</td>\n      <td>...</td>\n      <td>...</td>\n      <td>...</td>\n      <td>...</td>\n      <td>...</td>\n      <td>...</td>\n      <td>...</td>\n      <td>...</td>\n      <td>...</td>\n      <td>...</td>\n      <td>...</td>\n      <td>...</td>\n      <td>...</td>\n      <td>...</td>\n      <td>...</td>\n      <td>...</td>\n    </tr>\n    <tr>\n      <th>83852</th>\n      <td>1.0</td>\n      <td>3.0</td>\n      <td>33.0</td>\n      <td>39.0</td>\n      <td>4.0</td>\n      <td>4.0</td>\n      <td>1.0</td>\n      <td>1.0</td>\n      <td>1.0</td>\n      <td>3.0</td>\n      <td>...</td>\n      <td>1.0</td>\n      <td>2.0</td>\n      <td>2.0</td>\n      <td>1.0</td>\n      <td>2.0</td>\n      <td>2.0</td>\n      <td>2.0</td>\n      <td>10.0</td>\n      <td>4.0</td>\n      <td>-0.458169</td>\n    </tr>\n    <tr>\n      <th>83854</th>\n      <td>1.0</td>\n      <td>3.0</td>\n      <td>45.0</td>\n      <td>44.0</td>\n      <td>7.0</td>\n      <td>7.0</td>\n      <td>2.0</td>\n      <td>2.0</td>\n      <td>2.0</td>\n      <td>3.0</td>\n      <td>...</td>\n      <td>2.0</td>\n      <td>2.0</td>\n      <td>2.0</td>\n      <td>2.0</td>\n      <td>2.0</td>\n      <td>2.0</td>\n      <td>2.0</td>\n      <td>9.0</td>\n      <td>4.0</td>\n      <td>0.761954</td>\n    </tr>\n    <tr>\n      <th>83855</th>\n      <td>2.0</td>\n      <td>4.0</td>\n      <td>40.0</td>\n      <td>42.0</td>\n      <td>5.0</td>\n      <td>5.0</td>\n      <td>1.0</td>\n      <td>1.0</td>\n      <td>1.0</td>\n      <td>3.0</td>\n      <td>...</td>\n      <td>2.0</td>\n      <td>2.0</td>\n      <td>2.0</td>\n      <td>2.0</td>\n      <td>2.0</td>\n      <td>2.0</td>\n      <td>2.0</td>\n      <td>5.0</td>\n      <td>4.0</td>\n      <td>0.633218</td>\n    </tr>\n    <tr>\n      <th>83856</th>\n      <td>1.0</td>\n      <td>5.0</td>\n      <td>40.0</td>\n      <td>44.0</td>\n      <td>2.0</td>\n      <td>4.0</td>\n      <td>4.0</td>\n      <td>4.0</td>\n      <td>1.0</td>\n      <td>3.0</td>\n      <td>...</td>\n      <td>2.0</td>\n      <td>2.0</td>\n      <td>2.0</td>\n      <td>2.0</td>\n      <td>2.0</td>\n      <td>2.0</td>\n      <td>1.0</td>\n      <td>10.0</td>\n      <td>4.0</td>\n      <td>-1.506239</td>\n    </tr>\n    <tr>\n      <th>83857</th>\n      <td>1.0</td>\n      <td>5.0</td>\n      <td>41.0</td>\n      <td>51.0</td>\n      <td>4.0</td>\n      <td>3.0</td>\n      <td>1.0</td>\n      <td>1.0</td>\n      <td>1.0</td>\n      <td>3.0</td>\n      <td>...</td>\n      <td>2.0</td>\n      <td>2.0</td>\n      <td>2.0</td>\n      <td>2.0</td>\n      <td>2.0</td>\n      <td>2.0</td>\n      <td>2.0</td>\n      <td>3.0</td>\n      <td>4.0</td>\n      <td>-0.309953</td>\n    </tr>\n  </tbody>\n</table>\n<p>49110 rows × 76 columns</p>\n</div>"
     },
     "execution_count": 10,
     "metadata": {},
     "output_type": "execute_result"
    }
   ],
   "source": [
    "family_df_filled_with_mean"
   ],
   "metadata": {
    "collapsed": false,
    "ExecuteTime": {
     "end_time": "2024-04-22T13:56:08.605793Z",
     "start_time": "2024-04-22T13:56:08.575588Z"
    }
   }
  },
  {
   "cell_type": "code",
   "execution_count": 7,
   "outputs": [],
   "source": [
    "# Aggregation by making the sum of the value of all fields measuring the level of reading and literature in the home\n",
    "family_df_filled_with_mean['lecture_at_home_score'] = family_df_filled_with_mean[['f9a', 'f9b', 'f9c', 'f9h', 'books']].agg('sum', axis=1)\n",
    "family_df_filled_with_mean = family_df_filled_with_mean.drop(['f9a', 'f9b', 'f9c', 'f9h', 'books'], axis=1)\n",
    "\n",
    "# Aggregation by performing the sum of the value of all fields that measure the level of technology and electronic devices in the home\n",
    "family_df_filled_with_mean['tech_at_home_score'] = family_df_filled_with_mean[['f9d', 'f9e', 'f9f', 'f9g', 'f10n']].agg('sum', axis=1)\n",
    "family_df_filled_with_mean = family_df_filled_with_mean.drop(['f9d', 'f9e', 'f9f', 'f9g', 'f10n'], axis=1)\n",
    "\n",
    "# Aggregation that specifies how much students see reading and how much parents read to their children\n",
    "family_df_filled_with_mean['see_adult_read'] = family_df_filled_with_mean[['f12a', 'f12b']].agg('sum', axis=1)\n",
    "family_df_filled_with_mean = family_df_filled_with_mean.drop(['f12a', 'f12b'], axis=1)\n",
    "\n",
    "# Aggregation by making the sum of all visits the student receives, from mother, father, and other relatives\n",
    "family_df_filled_with_mean['visit_in_school_by_people'] = family_df_filled_with_mean[['f14a', 'f14b', 'f14c']].agg('sum', axis=1)\n",
    "family_df_filled_with_mean = family_df_filled_with_mean.drop(['f14a', 'f14b', 'f14c'], axis=1)\n",
    "\n",
    "# Aggregation of average parental interest in interviews\n",
    "family_df_filled_with_mean['interest_in_interview'] = family_df_filled_with_mean[['f15a', 'f15b', 'f15c', 'f15d', 'f15e', 'f15f']].agg('mean', axis=1)\n",
    "family_df_filled_with_mean = family_df_filled_with_mean.drop(['f15a', 'f15b', 'f15c', 'f15d', 'f15e', 'f15f'], axis=1)\n",
    "\n",
    "# Aggregation by averaging the help they receive at home from parents \n",
    "family_df_filled_with_mean['support_at_home'] = family_df_filled_with_mean[['f16a', 'f16b', 'f16c', 'f16d', 'f16e', 'f16f']].agg('mean', axis=1)\n",
    "family_df_filled_with_mean = family_df_filled_with_mean.drop(['f16a', 'f16b', 'f16c', 'f16d', 'f16e', 'f16f'], axis=1)\n",
    "\n",
    "# Aggregation by averaging the frequency of participation by parents in school activities\n",
    "family_df_filled_with_mean['parent_involved_in_school_activities'] = family_df_filled_with_mean[['f17a', 'f17b', 'f17c', 'f17d']].agg('mean', axis=1)\n",
    "family_df_filled_with_mean = family_df_filled_with_mean.drop(['f17a', 'f17b', 'f17c', 'f17d'], axis=1)\n",
    "\n",
    "# Aggregation by averaging parents satisfaction about the school\n",
    "family_df_filled_with_mean['family_satisfaction'] = family_df_filled_with_mean[['f18a', 'f18b', 'f18c', 'f18d', 'f18e', 'f18f', 'f18g', 'f18h', 'f18i']].agg('mean', axis=1)\n",
    "family_df_filled_with_mean = family_df_filled_with_mean.drop(['f18a', 'f18b', 'f18c', 'f18d', 'f18e', 'f18f', 'f18g', 'f18h', 'f18i'], axis=1)\n",
    "\n",
    "# Aggregation by averaging satisfaction from parents with teachers\n",
    "family_df_filled_with_mean['parent_involved_in_school_activities'] = family_df_filled_with_mean[['f19a', 'f19b', 'f19c', 'f19d', 'f19e']].agg('mean', axis=1)\n",
    "family_df_filled_with_mean = family_df_filled_with_mean.drop(['f19a', 'f19b', 'f19c', 'f19d', 'f19e'], axis=1)"
   ],
   "metadata": {
    "collapsed": false,
    "ExecuteTime": {
     "end_time": "2024-04-10T13:37:49.540848Z",
     "start_time": "2024-04-10T13:37:49.341098Z"
    }
   }
  },
  {
   "cell_type": "code",
   "execution_count": 8,
   "outputs": [
    {
     "data": {
      "text/plain": "             f0  f1n  f2an  f2bn  f3a  f3b  f5a  f5b  f5n   f6  ...  \\\nid_student                                                      ...   \n1           1.0  3.0  43.0  47.0  7.0  3.0  1.0  2.0  1.0  3.0  ...   \n3           1.0  4.0  45.0  41.0  3.0  5.0  1.0  1.0  1.0  3.0  ...   \n4           1.0  4.0  39.0  41.0  5.0  5.0  1.0  1.0  1.0  3.0  ...   \n5           2.0  4.0  39.0  41.0  9.0  7.0  1.0  2.0  1.0  3.0  ...   \n6           1.0  5.0  25.0  29.0  3.0  3.0  2.0  2.0  1.0  3.0  ...   \n...         ...  ...   ...   ...  ...  ...  ...  ...  ...  ...  ...   \n83852       1.0  3.0  33.0  39.0  4.0  4.0  1.0  1.0  1.0  3.0  ...   \n83854       1.0  3.0  45.0  44.0  7.0  7.0  2.0  2.0  2.0  3.0  ...   \n83855       2.0  4.0  40.0  42.0  5.0  5.0  1.0  1.0  1.0  3.0  ...   \n83856       1.0  5.0  40.0  44.0  2.0  4.0  4.0  4.0  1.0  3.0  ...   \n83857       1.0  5.0  41.0  51.0  4.0  3.0  1.0  1.0  1.0  3.0  ...   \n\n            nhousehold      ESCS  lecture_at_home_score  tech_at_home_score  \\\nid_student                                                                    \n1                  4.0  0.235340                   20.0                19.0   \n3                  4.0  0.261451                   13.0                12.0   \n4                  4.0  0.787122                   14.0                11.0   \n5                  4.0  3.151773                   16.0                17.0   \n6                  4.0 -1.627731                   11.0                18.0   \n...                ...       ...                    ...                 ...   \n83852              4.0 -0.458169                   14.0                20.0   \n83854              4.0  0.761954                   14.0                11.0   \n83855              4.0  0.633218                   14.0                24.0   \n83856              4.0 -1.506239                   12.0                19.0   \n83857              4.0 -0.309953                   14.0                17.0   \n\n            see_adult_read  visit_in_school_by_people  interest_in_interview  \\\nid_student                                                                     \n1                      7.0                       10.0               3.833333   \n3                      4.0                        9.0               3.833333   \n4                      6.0                        8.0               3.833333   \n5                      7.0                        9.0               3.500000   \n6                      7.0                        8.0               3.833333   \n...                    ...                        ...                    ...   \n83852                  7.0                       10.0               3.333333   \n83854                 10.0                        7.0               3.333333   \n83855                  3.0                        9.0               3.500000   \n83856                  2.0                       13.0               3.000000   \n83857                 10.0                        9.0               4.000000   \n\n            support_at_home  parent_involved_in_school_activities  \\\nid_student                                                          \n1                  4.000000                                   1.6   \n3                  4.000000                                   3.0   \n4                  4.000000                                   1.8   \n5                  3.666667                                   2.4   \n6                  4.000000                                   2.0   \n...                     ...                                   ...   \n83852              4.000000                                   5.0   \n83854              3.833333                                   5.0   \n83855              3.833333                                   5.0   \n83856              2.500000                                   5.0   \n83857              4.000000                                   2.4   \n\n            family_satisfaction  \nid_student                       \n1                      3.777778  \n3                      2.222222  \n4                      5.000000  \n5                      4.000000  \n6                      4.333333  \n...                         ...  \n83852                  4.777778  \n83854                  3.555556  \n83855                  4.777778  \n83856                  4.888889  \n83857                  2.888889  \n\n[49110 rows x 39 columns]",
      "text/html": "<div>\n<style scoped>\n    .dataframe tbody tr th:only-of-type {\n        vertical-align: middle;\n    }\n\n    .dataframe tbody tr th {\n        vertical-align: top;\n    }\n\n    .dataframe thead th {\n        text-align: right;\n    }\n</style>\n<table border=\"1\" class=\"dataframe\">\n  <thead>\n    <tr style=\"text-align: right;\">\n      <th></th>\n      <th>f0</th>\n      <th>f1n</th>\n      <th>f2an</th>\n      <th>f2bn</th>\n      <th>f3a</th>\n      <th>f3b</th>\n      <th>f5a</th>\n      <th>f5b</th>\n      <th>f5n</th>\n      <th>f6</th>\n      <th>...</th>\n      <th>nhousehold</th>\n      <th>ESCS</th>\n      <th>lecture_at_home_score</th>\n      <th>tech_at_home_score</th>\n      <th>see_adult_read</th>\n      <th>visit_in_school_by_people</th>\n      <th>interest_in_interview</th>\n      <th>support_at_home</th>\n      <th>parent_involved_in_school_activities</th>\n      <th>family_satisfaction</th>\n    </tr>\n    <tr>\n      <th>id_student</th>\n      <th></th>\n      <th></th>\n      <th></th>\n      <th></th>\n      <th></th>\n      <th></th>\n      <th></th>\n      <th></th>\n      <th></th>\n      <th></th>\n      <th></th>\n      <th></th>\n      <th></th>\n      <th></th>\n      <th></th>\n      <th></th>\n      <th></th>\n      <th></th>\n      <th></th>\n      <th></th>\n      <th></th>\n    </tr>\n  </thead>\n  <tbody>\n    <tr>\n      <th>1</th>\n      <td>1.0</td>\n      <td>3.0</td>\n      <td>43.0</td>\n      <td>47.0</td>\n      <td>7.0</td>\n      <td>3.0</td>\n      <td>1.0</td>\n      <td>2.0</td>\n      <td>1.0</td>\n      <td>3.0</td>\n      <td>...</td>\n      <td>4.0</td>\n      <td>0.235340</td>\n      <td>20.0</td>\n      <td>19.0</td>\n      <td>7.0</td>\n      <td>10.0</td>\n      <td>3.833333</td>\n      <td>4.000000</td>\n      <td>1.6</td>\n      <td>3.777778</td>\n    </tr>\n    <tr>\n      <th>3</th>\n      <td>1.0</td>\n      <td>4.0</td>\n      <td>45.0</td>\n      <td>41.0</td>\n      <td>3.0</td>\n      <td>5.0</td>\n      <td>1.0</td>\n      <td>1.0</td>\n      <td>1.0</td>\n      <td>3.0</td>\n      <td>...</td>\n      <td>4.0</td>\n      <td>0.261451</td>\n      <td>13.0</td>\n      <td>12.0</td>\n      <td>4.0</td>\n      <td>9.0</td>\n      <td>3.833333</td>\n      <td>4.000000</td>\n      <td>3.0</td>\n      <td>2.222222</td>\n    </tr>\n    <tr>\n      <th>4</th>\n      <td>1.0</td>\n      <td>4.0</td>\n      <td>39.0</td>\n      <td>41.0</td>\n      <td>5.0</td>\n      <td>5.0</td>\n      <td>1.0</td>\n      <td>1.0</td>\n      <td>1.0</td>\n      <td>3.0</td>\n      <td>...</td>\n      <td>4.0</td>\n      <td>0.787122</td>\n      <td>14.0</td>\n      <td>11.0</td>\n      <td>6.0</td>\n      <td>8.0</td>\n      <td>3.833333</td>\n      <td>4.000000</td>\n      <td>1.8</td>\n      <td>5.000000</td>\n    </tr>\n    <tr>\n      <th>5</th>\n      <td>2.0</td>\n      <td>4.0</td>\n      <td>39.0</td>\n      <td>41.0</td>\n      <td>9.0</td>\n      <td>7.0</td>\n      <td>1.0</td>\n      <td>2.0</td>\n      <td>1.0</td>\n      <td>3.0</td>\n      <td>...</td>\n      <td>4.0</td>\n      <td>3.151773</td>\n      <td>16.0</td>\n      <td>17.0</td>\n      <td>7.0</td>\n      <td>9.0</td>\n      <td>3.500000</td>\n      <td>3.666667</td>\n      <td>2.4</td>\n      <td>4.000000</td>\n    </tr>\n    <tr>\n      <th>6</th>\n      <td>1.0</td>\n      <td>5.0</td>\n      <td>25.0</td>\n      <td>29.0</td>\n      <td>3.0</td>\n      <td>3.0</td>\n      <td>2.0</td>\n      <td>2.0</td>\n      <td>1.0</td>\n      <td>3.0</td>\n      <td>...</td>\n      <td>4.0</td>\n      <td>-1.627731</td>\n      <td>11.0</td>\n      <td>18.0</td>\n      <td>7.0</td>\n      <td>8.0</td>\n      <td>3.833333</td>\n      <td>4.000000</td>\n      <td>2.0</td>\n      <td>4.333333</td>\n    </tr>\n    <tr>\n      <th>...</th>\n      <td>...</td>\n      <td>...</td>\n      <td>...</td>\n      <td>...</td>\n      <td>...</td>\n      <td>...</td>\n      <td>...</td>\n      <td>...</td>\n      <td>...</td>\n      <td>...</td>\n      <td>...</td>\n      <td>...</td>\n      <td>...</td>\n      <td>...</td>\n      <td>...</td>\n      <td>...</td>\n      <td>...</td>\n      <td>...</td>\n      <td>...</td>\n      <td>...</td>\n      <td>...</td>\n    </tr>\n    <tr>\n      <th>83852</th>\n      <td>1.0</td>\n      <td>3.0</td>\n      <td>33.0</td>\n      <td>39.0</td>\n      <td>4.0</td>\n      <td>4.0</td>\n      <td>1.0</td>\n      <td>1.0</td>\n      <td>1.0</td>\n      <td>3.0</td>\n      <td>...</td>\n      <td>4.0</td>\n      <td>-0.458169</td>\n      <td>14.0</td>\n      <td>20.0</td>\n      <td>7.0</td>\n      <td>10.0</td>\n      <td>3.333333</td>\n      <td>4.000000</td>\n      <td>5.0</td>\n      <td>4.777778</td>\n    </tr>\n    <tr>\n      <th>83854</th>\n      <td>1.0</td>\n      <td>3.0</td>\n      <td>45.0</td>\n      <td>44.0</td>\n      <td>7.0</td>\n      <td>7.0</td>\n      <td>2.0</td>\n      <td>2.0</td>\n      <td>2.0</td>\n      <td>3.0</td>\n      <td>...</td>\n      <td>4.0</td>\n      <td>0.761954</td>\n      <td>14.0</td>\n      <td>11.0</td>\n      <td>10.0</td>\n      <td>7.0</td>\n      <td>3.333333</td>\n      <td>3.833333</td>\n      <td>5.0</td>\n      <td>3.555556</td>\n    </tr>\n    <tr>\n      <th>83855</th>\n      <td>2.0</td>\n      <td>4.0</td>\n      <td>40.0</td>\n      <td>42.0</td>\n      <td>5.0</td>\n      <td>5.0</td>\n      <td>1.0</td>\n      <td>1.0</td>\n      <td>1.0</td>\n      <td>3.0</td>\n      <td>...</td>\n      <td>4.0</td>\n      <td>0.633218</td>\n      <td>14.0</td>\n      <td>24.0</td>\n      <td>3.0</td>\n      <td>9.0</td>\n      <td>3.500000</td>\n      <td>3.833333</td>\n      <td>5.0</td>\n      <td>4.777778</td>\n    </tr>\n    <tr>\n      <th>83856</th>\n      <td>1.0</td>\n      <td>5.0</td>\n      <td>40.0</td>\n      <td>44.0</td>\n      <td>2.0</td>\n      <td>4.0</td>\n      <td>4.0</td>\n      <td>4.0</td>\n      <td>1.0</td>\n      <td>3.0</td>\n      <td>...</td>\n      <td>4.0</td>\n      <td>-1.506239</td>\n      <td>12.0</td>\n      <td>19.0</td>\n      <td>2.0</td>\n      <td>13.0</td>\n      <td>3.000000</td>\n      <td>2.500000</td>\n      <td>5.0</td>\n      <td>4.888889</td>\n    </tr>\n    <tr>\n      <th>83857</th>\n      <td>1.0</td>\n      <td>5.0</td>\n      <td>41.0</td>\n      <td>51.0</td>\n      <td>4.0</td>\n      <td>3.0</td>\n      <td>1.0</td>\n      <td>1.0</td>\n      <td>1.0</td>\n      <td>3.0</td>\n      <td>...</td>\n      <td>4.0</td>\n      <td>-0.309953</td>\n      <td>14.0</td>\n      <td>17.0</td>\n      <td>10.0</td>\n      <td>9.0</td>\n      <td>4.000000</td>\n      <td>4.000000</td>\n      <td>2.4</td>\n      <td>2.888889</td>\n    </tr>\n  </tbody>\n</table>\n<p>49110 rows × 39 columns</p>\n</div>"
     },
     "execution_count": 8,
     "metadata": {},
     "output_type": "execute_result"
    }
   ],
   "source": [
    "family_df_filled_with_mean"
   ],
   "metadata": {
    "collapsed": false,
    "ExecuteTime": {
     "end_time": "2024-04-10T13:37:49.542360Z",
     "start_time": "2024-04-10T13:37:49.458635Z"
    }
   }
  },
  {
   "cell_type": "markdown",
   "source": [
    "# Pre-processing 2\n",
    "In this step we are going to ignore the NaN fields instead of replacing them"
   ],
   "metadata": {
    "collapsed": false
   }
  },
  {
   "cell_type": "code",
   "execution_count": 9,
   "outputs": [],
   "source": [
    "def sum_skip_na(column):\n",
    "    return column.sum(skipna=True)\n",
    "\n",
    "def mean_skip_na(column):\n",
    "    return column.mean(skipna=True)"
   ],
   "metadata": {
    "collapsed": false,
    "ExecuteTime": {
     "end_time": "2024-04-10T13:37:49.542765Z",
     "start_time": "2024-04-10T13:37:49.485312Z"
    }
   }
  },
  {
   "cell_type": "code",
   "execution_count": 10,
   "outputs": [],
   "source": [
    "family_df_skip_nan = family_df"
   ],
   "metadata": {
    "collapsed": false,
    "ExecuteTime": {
     "end_time": "2024-04-10T13:37:49.543379Z",
     "start_time": "2024-04-10T13:37:49.488Z"
    }
   }
  },
  {
   "cell_type": "code",
   "execution_count": 11,
   "outputs": [],
   "source": [
    "# Aggregation by making the sum of the value of all fields measuring the level of reading and literature in the home\n",
    "family_df_skip_nan['lecture_at_home_score'] = family_df_skip_nan[['f9a', 'f9b', 'f9c', 'f9h', 'books']].agg(sum_skip_na, axis=1)\n",
    "family_df_skip_nan = family_df_skip_nan.drop(['f9a', 'f9b', 'f9c', 'f9h', 'books'], axis=1)\n",
    "\n",
    "# Aggregation by performing the sum of the value of all fields that measure the level of technology and electronic devices in the home\n",
    "family_df_skip_nan['tech_at_home_score'] = family_df_skip_nan[['f9d', 'f9e', 'f9f', 'f9g', 'f10n']].agg(sum_skip_na, axis=1)\n",
    "family_df_skip_nan = family_df_skip_nan.drop(['f9d', 'f9e', 'f9f', 'f9g', 'f10n'], axis=1)\n",
    "\n",
    "# Aggregation that specifies how much students see reading and how much parents read to their children\n",
    "family_df_skip_nan['see_adult_read'] = family_df_skip_nan[['f12a', 'f12b']].agg(sum_skip_na, axis=1)\n",
    "family_df_skip_nan = family_df_skip_nan.drop(['f12a', 'f12b'], axis=1)\n",
    "\n",
    "# Aggregation by making the sum of all visits the student receives, from mother, father, and other relatives\n",
    "family_df_skip_nan['visit_in_school_by_people'] = family_df_skip_nan[['f14a', 'f14b', 'f14c']].agg(sum_skip_na, axis=1)\n",
    "family_df_skip_nan = family_df_skip_nan.drop(['f14a', 'f14b', 'f14c'], axis=1)\n",
    "\n",
    "# Aggregation of average parental interest in interviews\n",
    "family_df_skip_nan['interest_in_interview'] = family_df_skip_nan[['f15a', 'f15b', 'f15c', 'f15d', 'f15e', 'f15f']].agg(mean_skip_na, axis=1)\n",
    "family_df_skip_nan = family_df_skip_nan.drop(['f15a', 'f15b', 'f15c', 'f15d', 'f15e', 'f15f'], axis=1)\n",
    "\n",
    "# Aggregation by averaging the help they receive at home from parents \n",
    "family_df_skip_nan['support_at_home'] = family_df_skip_nan[['f16a', 'f16b', 'f16c', 'f16d', 'f16e', 'f16f']].agg(mean_skip_na, axis=1)\n",
    "family_df_skip_nan = family_df_skip_nan.drop(['f16a', 'f16b', 'f16c', 'f16d', 'f16e', 'f16f'], axis=1)\n",
    "\n",
    "# Aggregation by averaging the frequency of participation by parents in school activities\n",
    "family_df_skip_nan['parent_involved_in_school_activities'] = family_df_skip_nan[['f17a', 'f17b', 'f17c', 'f17d']].agg(mean_skip_na, axis=1)\n",
    "family_df_skip_nan = family_df_skip_nan.drop(['f17a', 'f17b', 'f17c', 'f17d'], axis=1)\n",
    "\n",
    "# Aggregation by averaging parents satisfaction about the school\n",
    "family_df_skip_nan['family_satisfaction'] = family_df_skip_nan[['f18a', 'f18b', 'f18c', 'f18d', 'f18e', 'f18f', 'f18g', 'f18h', 'f18i']].agg(mean_skip_na, axis=1)\n",
    "family_df_skip_nan = family_df_skip_nan.drop(['f18a', 'f18b', 'f18c', 'f18d', 'f18e', 'f18f', 'f18g', 'f18h', 'f18i'], axis=1)\n",
    "\n",
    "# Aggregation by averaging satisfaction from parents with teachers\n",
    "family_df_skip_nan['teacher_satisfaction'] = family_df_skip_nan[['f19a', 'f19b', 'f19c', 'f19d', 'f19e']].agg(mean_skip_na, axis=1)\n",
    "family_df_skip_nan = family_df_skip_nan.drop(['f19a', 'f19b', 'f19c', 'f19d', 'f19e'], axis=1)"
   ],
   "metadata": {
    "collapsed": false,
    "ExecuteTime": {
     "end_time": "2024-04-10T13:37:54.842773Z",
     "start_time": "2024-04-10T13:37:49.495413Z"
    }
   }
  },
  {
   "cell_type": "code",
   "execution_count": 12,
   "outputs": [
    {
     "data": {
      "text/plain": "             f0  f1n  f2an  f2bn  f3a  f3b  f5a  f5b  f5n   f6  ...      ESCS  \\\nid_student                                                      ...             \n1           1.0  3.0  43.0  47.0  7.0  3.0  1.0  2.0  1.0  3.0  ...  0.235340   \n3           1.0  4.0  45.0  41.0  3.0  5.0  1.0  1.0  1.0  3.0  ...  0.261451   \n4           1.0  4.0  39.0  41.0  5.0  5.0  1.0  1.0  1.0  NaN  ...  0.787122   \n5           2.0  4.0  39.0  41.0  9.0  7.0  1.0  2.0  1.0  NaN  ...  3.151773   \n6           1.0  5.0  25.0  29.0  3.0  3.0  NaN  NaN  1.0  3.0  ... -1.627731   \n...         ...  ...   ...   ...  ...  ...  ...  ...  ...  ...  ...       ...   \n83852       1.0  3.0  33.0  39.0  4.0  NaN  1.0  1.0  1.0  NaN  ... -0.458169   \n83854       1.0  3.0  45.0  44.0  7.0  7.0  2.0  2.0  2.0  NaN  ...  0.761954   \n83855       2.0  4.0  40.0  42.0  5.0  5.0  1.0  1.0  1.0  NaN  ...  0.633218   \n83856       1.0  5.0  40.0   NaN  2.0  NaN  4.0  4.0  1.0  NaN  ... -1.506239   \n83857       1.0  5.0  41.0  51.0  4.0  3.0  1.0  1.0  1.0  NaN  ... -0.309953   \n\n            lecture_at_home_score  tech_at_home_score  see_adult_read  \\\nid_student                                                              \n1                            20.0                19.0             7.0   \n3                            13.0                12.0             4.0   \n4                            14.0                11.0             6.0   \n5                            16.0                17.0             7.0   \n6                            11.0                18.0             4.0   \n...                           ...                 ...             ...   \n83852                        10.0                18.0             7.0   \n83854                        10.0                 9.0            10.0   \n83855                        10.0                22.0             3.0   \n83856                         8.0                17.0             2.0   \n83857                        10.0                15.0            10.0   \n\n            visit_in_school_by_people  interest_in_interview  support_at_home  \\\nid_student                                                                      \n1                                 7.0               4.000000         4.000000   \n3                                 6.0               4.000000         4.000000   \n4                                 5.0               4.000000         4.000000   \n5                                 6.0                    NaN         3.666667   \n6                                 5.0               4.000000         4.000000   \n...                               ...                    ...              ...   \n83852                             7.0               3.333333         4.000000   \n83854                             4.0               3.333333         3.750000   \n83855                             6.0               3.500000         3.750000   \n83856                            10.0               3.000000         1.750000   \n83857                             6.0               4.000000         4.000000   \n\n            parent_involved_in_school_activities  family_satisfaction  \\\nid_student                                                              \n1                                           2.00             3.750000   \n3                                           1.50             2.222222   \n4                                           1.75             5.000000   \n5                                           1.75             4.000000   \n6                                           1.25             4.333333   \n...                                          ...                  ...   \n83852                                       1.25             4.777778   \n83854                                       2.25             3.555556   \n83855                                       1.25             4.777778   \n83856                                       1.25             4.888889   \n83857                                       2.00             2.888889   \n\n            teacher_satisfaction  \nid_student                        \n1                            1.6  \n3                            3.0  \n4                            1.8  \n5                            2.4  \n6                            2.0  \n...                          ...  \n83852                        5.0  \n83854                        5.0  \n83855                        5.0  \n83856                        5.0  \n83857                        2.4  \n\n[49110 rows x 40 columns]",
      "text/html": "<div>\n<style scoped>\n    .dataframe tbody tr th:only-of-type {\n        vertical-align: middle;\n    }\n\n    .dataframe tbody tr th {\n        vertical-align: top;\n    }\n\n    .dataframe thead th {\n        text-align: right;\n    }\n</style>\n<table border=\"1\" class=\"dataframe\">\n  <thead>\n    <tr style=\"text-align: right;\">\n      <th></th>\n      <th>f0</th>\n      <th>f1n</th>\n      <th>f2an</th>\n      <th>f2bn</th>\n      <th>f3a</th>\n      <th>f3b</th>\n      <th>f5a</th>\n      <th>f5b</th>\n      <th>f5n</th>\n      <th>f6</th>\n      <th>...</th>\n      <th>ESCS</th>\n      <th>lecture_at_home_score</th>\n      <th>tech_at_home_score</th>\n      <th>see_adult_read</th>\n      <th>visit_in_school_by_people</th>\n      <th>interest_in_interview</th>\n      <th>support_at_home</th>\n      <th>parent_involved_in_school_activities</th>\n      <th>family_satisfaction</th>\n      <th>teacher_satisfaction</th>\n    </tr>\n    <tr>\n      <th>id_student</th>\n      <th></th>\n      <th></th>\n      <th></th>\n      <th></th>\n      <th></th>\n      <th></th>\n      <th></th>\n      <th></th>\n      <th></th>\n      <th></th>\n      <th></th>\n      <th></th>\n      <th></th>\n      <th></th>\n      <th></th>\n      <th></th>\n      <th></th>\n      <th></th>\n      <th></th>\n      <th></th>\n      <th></th>\n    </tr>\n  </thead>\n  <tbody>\n    <tr>\n      <th>1</th>\n      <td>1.0</td>\n      <td>3.0</td>\n      <td>43.0</td>\n      <td>47.0</td>\n      <td>7.0</td>\n      <td>3.0</td>\n      <td>1.0</td>\n      <td>2.0</td>\n      <td>1.0</td>\n      <td>3.0</td>\n      <td>...</td>\n      <td>0.235340</td>\n      <td>20.0</td>\n      <td>19.0</td>\n      <td>7.0</td>\n      <td>7.0</td>\n      <td>4.000000</td>\n      <td>4.000000</td>\n      <td>2.00</td>\n      <td>3.750000</td>\n      <td>1.6</td>\n    </tr>\n    <tr>\n      <th>3</th>\n      <td>1.0</td>\n      <td>4.0</td>\n      <td>45.0</td>\n      <td>41.0</td>\n      <td>3.0</td>\n      <td>5.0</td>\n      <td>1.0</td>\n      <td>1.0</td>\n      <td>1.0</td>\n      <td>3.0</td>\n      <td>...</td>\n      <td>0.261451</td>\n      <td>13.0</td>\n      <td>12.0</td>\n      <td>4.0</td>\n      <td>6.0</td>\n      <td>4.000000</td>\n      <td>4.000000</td>\n      <td>1.50</td>\n      <td>2.222222</td>\n      <td>3.0</td>\n    </tr>\n    <tr>\n      <th>4</th>\n      <td>1.0</td>\n      <td>4.0</td>\n      <td>39.0</td>\n      <td>41.0</td>\n      <td>5.0</td>\n      <td>5.0</td>\n      <td>1.0</td>\n      <td>1.0</td>\n      <td>1.0</td>\n      <td>NaN</td>\n      <td>...</td>\n      <td>0.787122</td>\n      <td>14.0</td>\n      <td>11.0</td>\n      <td>6.0</td>\n      <td>5.0</td>\n      <td>4.000000</td>\n      <td>4.000000</td>\n      <td>1.75</td>\n      <td>5.000000</td>\n      <td>1.8</td>\n    </tr>\n    <tr>\n      <th>5</th>\n      <td>2.0</td>\n      <td>4.0</td>\n      <td>39.0</td>\n      <td>41.0</td>\n      <td>9.0</td>\n      <td>7.0</td>\n      <td>1.0</td>\n      <td>2.0</td>\n      <td>1.0</td>\n      <td>NaN</td>\n      <td>...</td>\n      <td>3.151773</td>\n      <td>16.0</td>\n      <td>17.0</td>\n      <td>7.0</td>\n      <td>6.0</td>\n      <td>NaN</td>\n      <td>3.666667</td>\n      <td>1.75</td>\n      <td>4.000000</td>\n      <td>2.4</td>\n    </tr>\n    <tr>\n      <th>6</th>\n      <td>1.0</td>\n      <td>5.0</td>\n      <td>25.0</td>\n      <td>29.0</td>\n      <td>3.0</td>\n      <td>3.0</td>\n      <td>NaN</td>\n      <td>NaN</td>\n      <td>1.0</td>\n      <td>3.0</td>\n      <td>...</td>\n      <td>-1.627731</td>\n      <td>11.0</td>\n      <td>18.0</td>\n      <td>4.0</td>\n      <td>5.0</td>\n      <td>4.000000</td>\n      <td>4.000000</td>\n      <td>1.25</td>\n      <td>4.333333</td>\n      <td>2.0</td>\n    </tr>\n    <tr>\n      <th>...</th>\n      <td>...</td>\n      <td>...</td>\n      <td>...</td>\n      <td>...</td>\n      <td>...</td>\n      <td>...</td>\n      <td>...</td>\n      <td>...</td>\n      <td>...</td>\n      <td>...</td>\n      <td>...</td>\n      <td>...</td>\n      <td>...</td>\n      <td>...</td>\n      <td>...</td>\n      <td>...</td>\n      <td>...</td>\n      <td>...</td>\n      <td>...</td>\n      <td>...</td>\n      <td>...</td>\n    </tr>\n    <tr>\n      <th>83852</th>\n      <td>1.0</td>\n      <td>3.0</td>\n      <td>33.0</td>\n      <td>39.0</td>\n      <td>4.0</td>\n      <td>NaN</td>\n      <td>1.0</td>\n      <td>1.0</td>\n      <td>1.0</td>\n      <td>NaN</td>\n      <td>...</td>\n      <td>-0.458169</td>\n      <td>10.0</td>\n      <td>18.0</td>\n      <td>7.0</td>\n      <td>7.0</td>\n      <td>3.333333</td>\n      <td>4.000000</td>\n      <td>1.25</td>\n      <td>4.777778</td>\n      <td>5.0</td>\n    </tr>\n    <tr>\n      <th>83854</th>\n      <td>1.0</td>\n      <td>3.0</td>\n      <td>45.0</td>\n      <td>44.0</td>\n      <td>7.0</td>\n      <td>7.0</td>\n      <td>2.0</td>\n      <td>2.0</td>\n      <td>2.0</td>\n      <td>NaN</td>\n      <td>...</td>\n      <td>0.761954</td>\n      <td>10.0</td>\n      <td>9.0</td>\n      <td>10.0</td>\n      <td>4.0</td>\n      <td>3.333333</td>\n      <td>3.750000</td>\n      <td>2.25</td>\n      <td>3.555556</td>\n      <td>5.0</td>\n    </tr>\n    <tr>\n      <th>83855</th>\n      <td>2.0</td>\n      <td>4.0</td>\n      <td>40.0</td>\n      <td>42.0</td>\n      <td>5.0</td>\n      <td>5.0</td>\n      <td>1.0</td>\n      <td>1.0</td>\n      <td>1.0</td>\n      <td>NaN</td>\n      <td>...</td>\n      <td>0.633218</td>\n      <td>10.0</td>\n      <td>22.0</td>\n      <td>3.0</td>\n      <td>6.0</td>\n      <td>3.500000</td>\n      <td>3.750000</td>\n      <td>1.25</td>\n      <td>4.777778</td>\n      <td>5.0</td>\n    </tr>\n    <tr>\n      <th>83856</th>\n      <td>1.0</td>\n      <td>5.0</td>\n      <td>40.0</td>\n      <td>NaN</td>\n      <td>2.0</td>\n      <td>NaN</td>\n      <td>4.0</td>\n      <td>4.0</td>\n      <td>1.0</td>\n      <td>NaN</td>\n      <td>...</td>\n      <td>-1.506239</td>\n      <td>8.0</td>\n      <td>17.0</td>\n      <td>2.0</td>\n      <td>10.0</td>\n      <td>3.000000</td>\n      <td>1.750000</td>\n      <td>1.25</td>\n      <td>4.888889</td>\n      <td>5.0</td>\n    </tr>\n    <tr>\n      <th>83857</th>\n      <td>1.0</td>\n      <td>5.0</td>\n      <td>41.0</td>\n      <td>51.0</td>\n      <td>4.0</td>\n      <td>3.0</td>\n      <td>1.0</td>\n      <td>1.0</td>\n      <td>1.0</td>\n      <td>NaN</td>\n      <td>...</td>\n      <td>-0.309953</td>\n      <td>10.0</td>\n      <td>15.0</td>\n      <td>10.0</td>\n      <td>6.0</td>\n      <td>4.000000</td>\n      <td>4.000000</td>\n      <td>2.00</td>\n      <td>2.888889</td>\n      <td>2.4</td>\n    </tr>\n  </tbody>\n</table>\n<p>49110 rows × 40 columns</p>\n</div>"
     },
     "execution_count": 12,
     "metadata": {},
     "output_type": "execute_result"
    }
   ],
   "source": [
    "family_df_skip_nan"
   ],
   "metadata": {
    "collapsed": false,
    "ExecuteTime": {
     "end_time": "2024-04-10T13:37:54.875905Z",
     "start_time": "2024-04-10T13:37:54.844023Z"
    }
   }
  },
  {
   "cell_type": "code",
   "execution_count": 12,
   "outputs": [],
   "source": [],
   "metadata": {
    "collapsed": false,
    "ExecuteTime": {
     "end_time": "2024-04-10T13:37:54.876654Z",
     "start_time": "2024-04-10T13:37:54.874099Z"
    }
   }
  },
  {
   "cell_type": "code",
   "execution_count": null,
   "outputs": [],
   "source": [],
   "metadata": {
    "collapsed": false
   }
  }
 ],
 "metadata": {
  "kernelspec": {
   "display_name": "Python 3",
   "language": "python",
   "name": "python3"
  },
  "language_info": {
   "codemirror_mode": {
    "name": "ipython",
    "version": 3
   },
   "file_extension": ".py",
   "mimetype": "text/x-python",
   "name": "python",
   "nbconvert_exporter": "python",
   "pygments_lexer": "ipython3",
   "version": "3.10.14"
  },
  "orig_nbformat": 4
 },
 "nbformat": 4,
 "nbformat_minor": 2
}
